{
 "cells": [
  {
   "attachments": {},
   "cell_type": "markdown",
   "metadata": {},
   "source": [
    "## Credit Card Fraud Detection"
   ]
  },
  {
   "attachments": {},
   "cell_type": "markdown",
   "metadata": {},
   "source": [
    "## Business Understanding\n",
    "Credit card fraud detection is the process of identifying suspicious or unauthorized use of credit card information. It is important for businesses to have an effective fraud detection system in place to protect their customers' financial information and to minimize financial losses from fraudulent transactions.\n",
    "\n",
    "* Machine learning algorithms - these algorithms use historical data and patterns to detect fraud and make predictions about future transactions.\n",
    "\n",
    "It's important for businesses to continuously monitor and update their fraud detection systems to stay ahead of evolving threats and to ensure that they are able to effectively identify and prevent fraud. Additionally, businesses must comply with industry regulations such as the Payment Card Industry Data Security Standard (PCI DSS) to protect customer data and maintain customer trust."
   ]
  },
  {
   "attachments": {},
   "cell_type": "markdown",
   "metadata": {},
   "source": [
    "## Data Understanding"
   ]
  },
  {
   "cell_type": "code",
   "execution_count": 40,
   "metadata": {},
   "outputs": [],
   "source": [
    "# Import necessary library\n",
    "import pandas as pd\n",
    "import matplotlib.pyplot as plt\n",
    "import numpy as np"
   ]
  },
  {
   "cell_type": "code",
   "execution_count": 41,
   "metadata": {},
   "outputs": [
    {
     "data": {
      "text/html": [
       "<div>\n",
       "<style scoped>\n",
       "    .dataframe tbody tr th:only-of-type {\n",
       "        vertical-align: middle;\n",
       "    }\n",
       "\n",
       "    .dataframe tbody tr th {\n",
       "        vertical-align: top;\n",
       "    }\n",
       "\n",
       "    .dataframe thead th {\n",
       "        text-align: right;\n",
       "    }\n",
       "</style>\n",
       "<table border=\"1\" class=\"dataframe\">\n",
       "  <thead>\n",
       "    <tr style=\"text-align: right;\">\n",
       "      <th></th>\n",
       "      <th>Time</th>\n",
       "      <th>V1</th>\n",
       "      <th>V2</th>\n",
       "      <th>V3</th>\n",
       "      <th>V4</th>\n",
       "      <th>V5</th>\n",
       "      <th>V6</th>\n",
       "      <th>V7</th>\n",
       "      <th>V8</th>\n",
       "      <th>V9</th>\n",
       "      <th>...</th>\n",
       "      <th>V21</th>\n",
       "      <th>V22</th>\n",
       "      <th>V23</th>\n",
       "      <th>V24</th>\n",
       "      <th>V25</th>\n",
       "      <th>V26</th>\n",
       "      <th>V27</th>\n",
       "      <th>V28</th>\n",
       "      <th>Amount</th>\n",
       "      <th>class</th>\n",
       "    </tr>\n",
       "  </thead>\n",
       "  <tbody>\n",
       "    <tr>\n",
       "      <th>0</th>\n",
       "      <td>0.0</td>\n",
       "      <td>-1.359807</td>\n",
       "      <td>-0.072781</td>\n",
       "      <td>2.536347</td>\n",
       "      <td>1.378155</td>\n",
       "      <td>-0.338321</td>\n",
       "      <td>0.462388</td>\n",
       "      <td>0.239599</td>\n",
       "      <td>0.098698</td>\n",
       "      <td>0.363787</td>\n",
       "      <td>...</td>\n",
       "      <td>-0.018307</td>\n",
       "      <td>0.277838</td>\n",
       "      <td>-0.110474</td>\n",
       "      <td>0.066928</td>\n",
       "      <td>0.128539</td>\n",
       "      <td>-0.189115</td>\n",
       "      <td>0.133558</td>\n",
       "      <td>-0.021053</td>\n",
       "      <td>149.62</td>\n",
       "      <td>0</td>\n",
       "    </tr>\n",
       "    <tr>\n",
       "      <th>1</th>\n",
       "      <td>0.0</td>\n",
       "      <td>1.191857</td>\n",
       "      <td>0.266151</td>\n",
       "      <td>0.166480</td>\n",
       "      <td>0.448154</td>\n",
       "      <td>0.060018</td>\n",
       "      <td>-0.082361</td>\n",
       "      <td>-0.078803</td>\n",
       "      <td>0.085102</td>\n",
       "      <td>-0.255425</td>\n",
       "      <td>...</td>\n",
       "      <td>-0.225775</td>\n",
       "      <td>-0.638672</td>\n",
       "      <td>0.101288</td>\n",
       "      <td>-0.339846</td>\n",
       "      <td>0.167170</td>\n",
       "      <td>0.125895</td>\n",
       "      <td>-0.008983</td>\n",
       "      <td>0.014724</td>\n",
       "      <td>2.69</td>\n",
       "      <td>0</td>\n",
       "    </tr>\n",
       "    <tr>\n",
       "      <th>2</th>\n",
       "      <td>1.0</td>\n",
       "      <td>-1.358354</td>\n",
       "      <td>-1.340163</td>\n",
       "      <td>1.773209</td>\n",
       "      <td>0.379780</td>\n",
       "      <td>-0.503198</td>\n",
       "      <td>1.800499</td>\n",
       "      <td>0.791461</td>\n",
       "      <td>0.247676</td>\n",
       "      <td>-1.514654</td>\n",
       "      <td>...</td>\n",
       "      <td>0.247998</td>\n",
       "      <td>0.771679</td>\n",
       "      <td>0.909412</td>\n",
       "      <td>-0.689281</td>\n",
       "      <td>-0.327642</td>\n",
       "      <td>-0.139097</td>\n",
       "      <td>-0.055353</td>\n",
       "      <td>-0.059752</td>\n",
       "      <td>378.66</td>\n",
       "      <td>0</td>\n",
       "    </tr>\n",
       "    <tr>\n",
       "      <th>3</th>\n",
       "      <td>1.0</td>\n",
       "      <td>-0.966272</td>\n",
       "      <td>-0.185226</td>\n",
       "      <td>1.792993</td>\n",
       "      <td>-0.863291</td>\n",
       "      <td>-0.010309</td>\n",
       "      <td>1.247203</td>\n",
       "      <td>0.237609</td>\n",
       "      <td>0.377436</td>\n",
       "      <td>-1.387024</td>\n",
       "      <td>...</td>\n",
       "      <td>-0.108300</td>\n",
       "      <td>0.005274</td>\n",
       "      <td>-0.190321</td>\n",
       "      <td>-1.175575</td>\n",
       "      <td>0.647376</td>\n",
       "      <td>-0.221929</td>\n",
       "      <td>0.062723</td>\n",
       "      <td>0.061458</td>\n",
       "      <td>123.50</td>\n",
       "      <td>0</td>\n",
       "    </tr>\n",
       "    <tr>\n",
       "      <th>4</th>\n",
       "      <td>2.0</td>\n",
       "      <td>-1.158233</td>\n",
       "      <td>0.877737</td>\n",
       "      <td>1.548718</td>\n",
       "      <td>0.403034</td>\n",
       "      <td>-0.407193</td>\n",
       "      <td>0.095921</td>\n",
       "      <td>0.592941</td>\n",
       "      <td>-0.270533</td>\n",
       "      <td>0.817739</td>\n",
       "      <td>...</td>\n",
       "      <td>-0.009431</td>\n",
       "      <td>0.798278</td>\n",
       "      <td>-0.137458</td>\n",
       "      <td>0.141267</td>\n",
       "      <td>-0.206010</td>\n",
       "      <td>0.502292</td>\n",
       "      <td>0.219422</td>\n",
       "      <td>0.215153</td>\n",
       "      <td>69.99</td>\n",
       "      <td>0</td>\n",
       "    </tr>\n",
       "  </tbody>\n",
       "</table>\n",
       "<p>5 rows × 31 columns</p>\n",
       "</div>"
      ],
      "text/plain": [
       "   Time        V1        V2        V3        V4        V5        V6        V7  \\\n",
       "0   0.0 -1.359807 -0.072781  2.536347  1.378155 -0.338321  0.462388  0.239599   \n",
       "1   0.0  1.191857  0.266151  0.166480  0.448154  0.060018 -0.082361 -0.078803   \n",
       "2   1.0 -1.358354 -1.340163  1.773209  0.379780 -0.503198  1.800499  0.791461   \n",
       "3   1.0 -0.966272 -0.185226  1.792993 -0.863291 -0.010309  1.247203  0.237609   \n",
       "4   2.0 -1.158233  0.877737  1.548718  0.403034 -0.407193  0.095921  0.592941   \n",
       "\n",
       "         V8        V9  ...       V21       V22       V23       V24       V25  \\\n",
       "0  0.098698  0.363787  ... -0.018307  0.277838 -0.110474  0.066928  0.128539   \n",
       "1  0.085102 -0.255425  ... -0.225775 -0.638672  0.101288 -0.339846  0.167170   \n",
       "2  0.247676 -1.514654  ...  0.247998  0.771679  0.909412 -0.689281 -0.327642   \n",
       "3  0.377436 -1.387024  ... -0.108300  0.005274 -0.190321 -1.175575  0.647376   \n",
       "4 -0.270533  0.817739  ... -0.009431  0.798278 -0.137458  0.141267 -0.206010   \n",
       "\n",
       "        V26       V27       V28  Amount  class  \n",
       "0 -0.189115  0.133558 -0.021053  149.62      0  \n",
       "1  0.125895 -0.008983  0.014724    2.69      0  \n",
       "2 -0.139097 -0.055353 -0.059752  378.66      0  \n",
       "3 -0.221929  0.062723  0.061458  123.50      0  \n",
       "4  0.502292  0.219422  0.215153   69.99      0  \n",
       "\n",
       "[5 rows x 31 columns]"
      ]
     },
     "execution_count": 41,
     "metadata": {},
     "output_type": "execute_result"
    }
   ],
   "source": [
    "# Load dataset\n",
    "df = pd.read_csv('creditcard/creditcard.csv')\n",
    "\n",
    "# first five rows of the dataset\n",
    "df.head(5)"
   ]
  },
  {
   "cell_type": "code",
   "execution_count": 42,
   "metadata": {},
   "outputs": [
    {
     "name": "stdout",
     "output_type": "stream",
     "text": [
      "Number of rows: 284807; Number of columns: 31\n"
     ]
    }
   ],
   "source": [
    "# check for number of columns and rows\n",
    "rows,columns = df.shape\n",
    "\n",
    "# Print the number of rows and columns in one statement\n",
    "print(f\"Number of rows: {rows}; Number of columns: {columns}\")"
   ]
  },
  {
   "cell_type": "code",
   "execution_count": 43,
   "metadata": {},
   "outputs": [
    {
     "name": "stdout",
     "output_type": "stream",
     "text": [
      "Column 1: Time\n",
      "Column 2: V1\n",
      "Column 3: V2\n",
      "Column 4: V3\n",
      "Column 5: V4\n",
      "Column 6: V5\n",
      "Column 7: V6\n",
      "Column 8: V7\n",
      "Column 9: V8\n",
      "Column 10: V9\n",
      "Column 11: V10\n",
      "Column 12: V11\n",
      "Column 13: V12\n",
      "Column 14: V13\n",
      "Column 15: V14\n",
      "Column 16: V15\n",
      "Column 17: V16\n",
      "Column 18: V17\n",
      "Column 19: V18\n",
      "Column 20: V19\n",
      "Column 21: V20\n",
      "Column 22: V21\n",
      "Column 23: V22\n",
      "Column 24: V23\n",
      "Column 25: V24\n",
      "Column 26: V25\n",
      "Column 27: V26\n",
      "Column 28: V27\n",
      "Column 29: V28\n",
      "Column 30: Amount\n",
      "Column 31: class\n"
     ]
    }
   ],
   "source": [
    "# Get the column names\n",
    "column_names = df.columns\n",
    "\n",
    "# Use a for loop to print the column names\n",
    "for i, column_name in enumerate(column_names):\n",
    "    print(f\"Column {i+1}: {column_name}\")"
   ]
  },
  {
   "cell_type": "code",
   "execution_count": 44,
   "metadata": {},
   "outputs": [
    {
     "name": "stdout",
     "output_type": "stream",
     "text": [
      "Value 1: 0\n",
      "Value 2: 1\n"
     ]
    }
   ],
   "source": [
    "\n",
    "# Specify the column to check\n",
    "column_name = 'class'\n",
    "\n",
    "# Get the values of the specified column\n",
    "column_values = df[column_name].unique()\n",
    "\n",
    "# Use a for loop to print the values of the specified column\n",
    "for i, value in enumerate(column_values):\n",
    "    print(f\"Value {i+1}: {value}\")"
   ]
  },
  {
   "attachments": {},
   "cell_type": "markdown",
   "metadata": {},
   "source": [
    "* Class 0 --> Non fraudulent\n",
    "* class 1 --> fraudulent"
   ]
  },
  {
   "cell_type": "code",
   "execution_count": 45,
   "metadata": {},
   "outputs": [
    {
     "name": "stdout",
     "output_type": "stream",
     "text": [
      "Time: 0 missing values\n",
      "V1: 0 missing values\n",
      "V2: 0 missing values\n",
      "V3: 0 missing values\n",
      "V4: 0 missing values\n",
      "V5: 0 missing values\n",
      "V6: 0 missing values\n",
      "V7: 0 missing values\n",
      "V8: 0 missing values\n",
      "V9: 0 missing values\n",
      "V10: 0 missing values\n",
      "V11: 0 missing values\n",
      "V12: 0 missing values\n",
      "V13: 0 missing values\n",
      "V14: 0 missing values\n",
      "V15: 0 missing values\n",
      "V16: 0 missing values\n",
      "V17: 0 missing values\n",
      "V18: 0 missing values\n",
      "V19: 0 missing values\n",
      "V20: 0 missing values\n",
      "V21: 0 missing values\n",
      "V22: 0 missing values\n",
      "V23: 0 missing values\n",
      "V24: 0 missing values\n",
      "V25: 0 missing values\n",
      "V26: 0 missing values\n",
      "V27: 0 missing values\n",
      "V28: 0 missing values\n",
      "Amount: 0 missing values\n",
      "class: 0 missing values\n"
     ]
    }
   ],
   "source": [
    "# Check for missing values\n",
    "df.isna().any()\n",
    "# Get the column names\n",
    "column_names = df.columns\n",
    "\n",
    "# Use a for loop to check for missing values in each column\n",
    "for column_name in column_names:\n",
    "    missing_values = df[column_name].isnull().sum()\n",
    "    print(f\"{column_name}: {missing_values} missing values\")"
   ]
  },
  {
   "cell_type": "code",
   "execution_count": 46,
   "metadata": {},
   "outputs": [
    {
     "name": "stdout",
     "output_type": "stream",
     "text": [
      "Number of duplicate rows: 1081\n"
     ]
    }
   ],
   "source": [
    "# check for duplicates\n",
    "duplicates = df.duplicated().sum()\n",
    "\n",
    "# Print the number of duplicates\n",
    "print(f\"Number of duplicate rows: {duplicates}\")"
   ]
  },
  {
   "cell_type": "code",
   "execution_count": 47,
   "metadata": {},
   "outputs": [
    {
     "name": "stdout",
     "output_type": "stream",
     "text": [
      "Time: 160215 duplicated values\n",
      "V1: 9154 duplicated values\n",
      "V2: 9152 duplicated values\n",
      "V3: 9150 duplicated values\n",
      "V4: 9153 duplicated values\n",
      "V5: 9150 duplicated values\n",
      "V6: 9155 duplicated values\n",
      "V7: 9156 duplicated values\n",
      "V8: 9164 duplicated values\n",
      "V9: 9151 duplicated values\n",
      "V10: 9161 duplicated values\n",
      "V11: 9159 duplicated values\n",
      "V12: 9153 duplicated values\n",
      "V13: 9150 duplicated values\n",
      "V14: 9154 duplicated values\n",
      "V15: 9154 duplicated values\n",
      "V16: 9162 duplicated values\n",
      "V17: 9161 duplicated values\n",
      "V18: 9152 duplicated values\n",
      "V19: 9162 duplicated values\n",
      "V20: 9175 duplicated values\n",
      "V21: 9190 duplicated values\n",
      "V22: 9163 duplicated values\n",
      "V23: 9196 duplicated values\n",
      "V24: 9162 duplicated values\n",
      "V25: 9167 duplicated values\n",
      "V26: 9160 duplicated values\n",
      "V27: 9210 duplicated values\n",
      "V28: 9249 duplicated values\n",
      "Amount: 252040 duplicated values\n",
      "class: 284805 duplicated values\n"
     ]
    }
   ],
   "source": [
    "# Get the column names\n",
    "column_names = df.columns\n",
    "\n",
    "# Use a for loop to check for duplicated values in each column\n",
    "for column_name in column_names:\n",
    "    duplicates = df[column_name].duplicated().sum()\n",
    "    print(f\"{column_name}: {duplicates} duplicated values\")"
   ]
  },
  {
   "attachments": {},
   "cell_type": "markdown",
   "metadata": {},
   "source": [
    "## Data Preparation"
   ]
  },
  {
   "cell_type": "code",
   "execution_count": 48,
   "metadata": {},
   "outputs": [
    {
     "name": "stdout",
     "output_type": "stream",
     "text": [
      "<class 'pandas.core.frame.DataFrame'>\n",
      "RangeIndex: 284807 entries, 0 to 284806\n",
      "Data columns (total 31 columns):\n",
      " #   Column  Non-Null Count   Dtype  \n",
      "---  ------  --------------   -----  \n",
      " 0   Time    284807 non-null  float64\n",
      " 1   V1      284807 non-null  float64\n",
      " 2   V2      284807 non-null  float64\n",
      " 3   V3      284807 non-null  float64\n",
      " 4   V4      284807 non-null  float64\n",
      " 5   V5      284807 non-null  float64\n",
      " 6   V6      284807 non-null  float64\n",
      " 7   V7      284807 non-null  float64\n",
      " 8   V8      284807 non-null  float64\n",
      " 9   V9      284807 non-null  float64\n",
      " 10  V10     284807 non-null  float64\n",
      " 11  V11     284807 non-null  float64\n",
      " 12  V12     284807 non-null  float64\n",
      " 13  V13     284807 non-null  float64\n",
      " 14  V14     284807 non-null  float64\n",
      " 15  V15     284807 non-null  float64\n",
      " 16  V16     284807 non-null  float64\n",
      " 17  V17     284807 non-null  float64\n",
      " 18  V18     284807 non-null  float64\n",
      " 19  V19     284807 non-null  float64\n",
      " 20  V20     284807 non-null  float64\n",
      " 21  V21     284807 non-null  float64\n",
      " 22  V22     284807 non-null  float64\n",
      " 23  V23     284807 non-null  float64\n",
      " 24  V24     284807 non-null  float64\n",
      " 25  V25     284807 non-null  float64\n",
      " 26  V26     284807 non-null  float64\n",
      " 27  V27     284807 non-null  float64\n",
      " 28  V28     284807 non-null  float64\n",
      " 29  Amount  284807 non-null  float64\n",
      " 30  class   284807 non-null  int64  \n",
      "dtypes: float64(30), int64(1)\n",
      "memory usage: 67.4 MB\n"
     ]
    }
   ],
   "source": [
    "# dafaset info\n",
    "df.info()"
   ]
  },
  {
   "cell_type": "code",
   "execution_count": 49,
   "metadata": {},
   "outputs": [
    {
     "data": {
      "text/plain": [
       "0    284315\n",
       "1       492\n",
       "Name: class, dtype: int64"
      ]
     },
     "execution_count": 49,
     "metadata": {},
     "output_type": "execute_result"
    }
   ],
   "source": [
    "# data distribution\n",
    "df['class'].value_counts()"
   ]
  },
  {
   "cell_type": "code",
   "execution_count": 50,
   "metadata": {},
   "outputs": [
    {
     "data": {
      "text/plain": [
       "'\\nDataset in unbalanced\\n'"
      ]
     },
     "execution_count": 50,
     "metadata": {},
     "output_type": "execute_result"
    }
   ],
   "source": [
    "\"\"\"\n",
    "Dataset in unbalanced\n",
    "\"\"\""
   ]
  },
  {
   "cell_type": "code",
   "execution_count": 51,
   "metadata": {},
   "outputs": [],
   "source": [
    "# separate data\n",
    "norm = df[df['class'] == 0]\n",
    "fraud = df[df['class'] == 1]"
   ]
  },
  {
   "cell_type": "code",
   "execution_count": 52,
   "metadata": {},
   "outputs": [
    {
     "name": "stdout",
     "output_type": "stream",
     "text": [
      "Shape of dataframe:  (284315, 31)\n",
      "Shape of dataframe:  (492, 31)\n"
     ]
    }
   ],
   "source": [
    "# print shape of the variables\n",
    "dataframes = [norm, fraud]\n",
    "for data in dataframes:\n",
    "    print(\"Shape of dataframe: \", data.shape)\n",
    "\n"
   ]
  },
  {
   "cell_type": "code",
   "execution_count": 53,
   "metadata": {},
   "outputs": [
    {
     "data": {
      "text/plain": [
       "count    284315.000000\n",
       "mean         88.291022\n",
       "std         250.105092\n",
       "min           0.000000\n",
       "25%           5.650000\n",
       "50%          22.000000\n",
       "75%          77.050000\n",
       "max       25691.160000\n",
       "Name: Amount, dtype: float64"
      ]
     },
     "execution_count": 53,
     "metadata": {},
     "output_type": "execute_result"
    }
   ],
   "source": [
    "# Data statistics\n",
    "norm.Amount.describe()"
   ]
  },
  {
   "cell_type": "code",
   "execution_count": 54,
   "metadata": {},
   "outputs": [
    {
     "data": {
      "text/plain": [
       "count     492.000000\n",
       "mean      122.211321\n",
       "std       256.683288\n",
       "min         0.000000\n",
       "25%         1.000000\n",
       "50%         9.250000\n",
       "75%       105.890000\n",
       "max      2125.870000\n",
       "Name: Amount, dtype: float64"
      ]
     },
     "execution_count": 54,
     "metadata": {},
     "output_type": "execute_result"
    }
   ],
   "source": [
    "fraud.Amount.describe()"
   ]
  },
  {
   "cell_type": "code",
   "execution_count": 55,
   "metadata": {},
   "outputs": [
    {
     "data": {
      "text/html": [
       "<div>\n",
       "<style scoped>\n",
       "    .dataframe tbody tr th:only-of-type {\n",
       "        vertical-align: middle;\n",
       "    }\n",
       "\n",
       "    .dataframe tbody tr th {\n",
       "        vertical-align: top;\n",
       "    }\n",
       "\n",
       "    .dataframe thead th {\n",
       "        text-align: right;\n",
       "    }\n",
       "</style>\n",
       "<table border=\"1\" class=\"dataframe\">\n",
       "  <thead>\n",
       "    <tr style=\"text-align: right;\">\n",
       "      <th></th>\n",
       "      <th>Time</th>\n",
       "      <th>V1</th>\n",
       "      <th>V2</th>\n",
       "      <th>V3</th>\n",
       "      <th>V4</th>\n",
       "      <th>V5</th>\n",
       "      <th>V6</th>\n",
       "      <th>V7</th>\n",
       "      <th>V8</th>\n",
       "      <th>V9</th>\n",
       "      <th>...</th>\n",
       "      <th>V20</th>\n",
       "      <th>V21</th>\n",
       "      <th>V22</th>\n",
       "      <th>V23</th>\n",
       "      <th>V24</th>\n",
       "      <th>V25</th>\n",
       "      <th>V26</th>\n",
       "      <th>V27</th>\n",
       "      <th>V28</th>\n",
       "      <th>Amount</th>\n",
       "    </tr>\n",
       "    <tr>\n",
       "      <th>class</th>\n",
       "      <th></th>\n",
       "      <th></th>\n",
       "      <th></th>\n",
       "      <th></th>\n",
       "      <th></th>\n",
       "      <th></th>\n",
       "      <th></th>\n",
       "      <th></th>\n",
       "      <th></th>\n",
       "      <th></th>\n",
       "      <th></th>\n",
       "      <th></th>\n",
       "      <th></th>\n",
       "      <th></th>\n",
       "      <th></th>\n",
       "      <th></th>\n",
       "      <th></th>\n",
       "      <th></th>\n",
       "      <th></th>\n",
       "      <th></th>\n",
       "      <th></th>\n",
       "    </tr>\n",
       "  </thead>\n",
       "  <tbody>\n",
       "    <tr>\n",
       "      <th>0</th>\n",
       "      <td>94838.202258</td>\n",
       "      <td>0.008258</td>\n",
       "      <td>-0.006271</td>\n",
       "      <td>0.012171</td>\n",
       "      <td>-0.007860</td>\n",
       "      <td>0.005453</td>\n",
       "      <td>0.002419</td>\n",
       "      <td>0.009637</td>\n",
       "      <td>-0.000987</td>\n",
       "      <td>0.004467</td>\n",
       "      <td>...</td>\n",
       "      <td>-0.000644</td>\n",
       "      <td>-0.001235</td>\n",
       "      <td>-0.000024</td>\n",
       "      <td>0.000070</td>\n",
       "      <td>0.000182</td>\n",
       "      <td>-0.000072</td>\n",
       "      <td>-0.000089</td>\n",
       "      <td>-0.000295</td>\n",
       "      <td>-0.000131</td>\n",
       "      <td>88.291022</td>\n",
       "    </tr>\n",
       "    <tr>\n",
       "      <th>1</th>\n",
       "      <td>80746.806911</td>\n",
       "      <td>-4.771948</td>\n",
       "      <td>3.623778</td>\n",
       "      <td>-7.033281</td>\n",
       "      <td>4.542029</td>\n",
       "      <td>-3.151225</td>\n",
       "      <td>-1.397737</td>\n",
       "      <td>-5.568731</td>\n",
       "      <td>0.570636</td>\n",
       "      <td>-2.581123</td>\n",
       "      <td>...</td>\n",
       "      <td>0.372319</td>\n",
       "      <td>0.713588</td>\n",
       "      <td>0.014049</td>\n",
       "      <td>-0.040308</td>\n",
       "      <td>-0.105130</td>\n",
       "      <td>0.041449</td>\n",
       "      <td>0.051648</td>\n",
       "      <td>0.170575</td>\n",
       "      <td>0.075667</td>\n",
       "      <td>122.211321</td>\n",
       "    </tr>\n",
       "  </tbody>\n",
       "</table>\n",
       "<p>2 rows × 30 columns</p>\n",
       "</div>"
      ],
      "text/plain": [
       "               Time        V1        V2        V3        V4        V5  \\\n",
       "class                                                                   \n",
       "0      94838.202258  0.008258 -0.006271  0.012171 -0.007860  0.005453   \n",
       "1      80746.806911 -4.771948  3.623778 -7.033281  4.542029 -3.151225   \n",
       "\n",
       "             V6        V7        V8        V9  ...       V20       V21  \\\n",
       "class                                          ...                       \n",
       "0      0.002419  0.009637 -0.000987  0.004467  ... -0.000644 -0.001235   \n",
       "1     -1.397737 -5.568731  0.570636 -2.581123  ...  0.372319  0.713588   \n",
       "\n",
       "            V22       V23       V24       V25       V26       V27       V28  \\\n",
       "class                                                                         \n",
       "0     -0.000024  0.000070  0.000182 -0.000072 -0.000089 -0.000295 -0.000131   \n",
       "1      0.014049 -0.040308 -0.105130  0.041449  0.051648  0.170575  0.075667   \n",
       "\n",
       "           Amount  \n",
       "class              \n",
       "0       88.291022  \n",
       "1      122.211321  \n",
       "\n",
       "[2 rows x 30 columns]"
      ]
     },
     "execution_count": 55,
     "metadata": {},
     "output_type": "execute_result"
    }
   ],
   "source": [
    "# compare mean for the fraud and normal data\n",
    "df.groupby('class').mean()"
   ]
  },
  {
   "cell_type": "code",
   "execution_count": 56,
   "metadata": {},
   "outputs": [],
   "source": [
    "# sampling\n",
    "norm_samp = norm.sample(n=492)"
   ]
  },
  {
   "cell_type": "code",
   "execution_count": 57,
   "metadata": {},
   "outputs": [
    {
     "data": {
      "text/html": [
       "<div>\n",
       "<style scoped>\n",
       "    .dataframe tbody tr th:only-of-type {\n",
       "        vertical-align: middle;\n",
       "    }\n",
       "\n",
       "    .dataframe tbody tr th {\n",
       "        vertical-align: top;\n",
       "    }\n",
       "\n",
       "    .dataframe thead th {\n",
       "        text-align: right;\n",
       "    }\n",
       "</style>\n",
       "<table border=\"1\" class=\"dataframe\">\n",
       "  <thead>\n",
       "    <tr style=\"text-align: right;\">\n",
       "      <th></th>\n",
       "      <th>Time</th>\n",
       "      <th>V1</th>\n",
       "      <th>V2</th>\n",
       "      <th>V3</th>\n",
       "      <th>V4</th>\n",
       "      <th>V5</th>\n",
       "      <th>V6</th>\n",
       "      <th>V7</th>\n",
       "      <th>V8</th>\n",
       "      <th>V9</th>\n",
       "      <th>...</th>\n",
       "      <th>V21</th>\n",
       "      <th>V22</th>\n",
       "      <th>V23</th>\n",
       "      <th>V24</th>\n",
       "      <th>V25</th>\n",
       "      <th>V26</th>\n",
       "      <th>V27</th>\n",
       "      <th>V28</th>\n",
       "      <th>Amount</th>\n",
       "      <th>class</th>\n",
       "    </tr>\n",
       "  </thead>\n",
       "  <tbody>\n",
       "    <tr>\n",
       "      <th>279234</th>\n",
       "      <td>168729.0</td>\n",
       "      <td>0.018184</td>\n",
       "      <td>0.768485</td>\n",
       "      <td>0.172684</td>\n",
       "      <td>-0.769906</td>\n",
       "      <td>0.591460</td>\n",
       "      <td>-0.634593</td>\n",
       "      <td>0.865897</td>\n",
       "      <td>-0.014814</td>\n",
       "      <td>-0.216557</td>\n",
       "      <td>...</td>\n",
       "      <td>-0.234318</td>\n",
       "      <td>-0.553228</td>\n",
       "      <td>0.023422</td>\n",
       "      <td>-0.354570</td>\n",
       "      <td>-0.490981</td>\n",
       "      <td>0.142097</td>\n",
       "      <td>0.239997</td>\n",
       "      <td>0.083222</td>\n",
       "      <td>2.69</td>\n",
       "      <td>0</td>\n",
       "    </tr>\n",
       "    <tr>\n",
       "      <th>10938</th>\n",
       "      <td>18769.0</td>\n",
       "      <td>-2.146416</td>\n",
       "      <td>-1.596222</td>\n",
       "      <td>2.560461</td>\n",
       "      <td>-1.332597</td>\n",
       "      <td>1.306061</td>\n",
       "      <td>-1.099903</td>\n",
       "      <td>-1.272066</td>\n",
       "      <td>0.476996</td>\n",
       "      <td>2.455747</td>\n",
       "      <td>...</td>\n",
       "      <td>0.119163</td>\n",
       "      <td>0.097449</td>\n",
       "      <td>0.078743</td>\n",
       "      <td>-0.066076</td>\n",
       "      <td>0.438715</td>\n",
       "      <td>-0.797729</td>\n",
       "      <td>0.015860</td>\n",
       "      <td>0.093013</td>\n",
       "      <td>21.05</td>\n",
       "      <td>0</td>\n",
       "    </tr>\n",
       "    <tr>\n",
       "      <th>173658</th>\n",
       "      <td>121585.0</td>\n",
       "      <td>1.639938</td>\n",
       "      <td>-0.908127</td>\n",
       "      <td>0.832521</td>\n",
       "      <td>1.845868</td>\n",
       "      <td>-1.652753</td>\n",
       "      <td>0.105208</td>\n",
       "      <td>-1.147006</td>\n",
       "      <td>0.239830</td>\n",
       "      <td>1.992198</td>\n",
       "      <td>...</td>\n",
       "      <td>0.262163</td>\n",
       "      <td>0.936092</td>\n",
       "      <td>0.118866</td>\n",
       "      <td>0.464955</td>\n",
       "      <td>-0.308215</td>\n",
       "      <td>-0.560345</td>\n",
       "      <td>0.098183</td>\n",
       "      <td>0.004622</td>\n",
       "      <td>109.99</td>\n",
       "      <td>0</td>\n",
       "    </tr>\n",
       "    <tr>\n",
       "      <th>119020</th>\n",
       "      <td>75299.0</td>\n",
       "      <td>-0.705120</td>\n",
       "      <td>1.126895</td>\n",
       "      <td>1.201219</td>\n",
       "      <td>0.438523</td>\n",
       "      <td>0.348542</td>\n",
       "      <td>-0.364667</td>\n",
       "      <td>0.791330</td>\n",
       "      <td>-0.150286</td>\n",
       "      <td>-0.412665</td>\n",
       "      <td>...</td>\n",
       "      <td>0.163367</td>\n",
       "      <td>0.440549</td>\n",
       "      <td>-0.130025</td>\n",
       "      <td>0.080528</td>\n",
       "      <td>0.173362</td>\n",
       "      <td>-0.373281</td>\n",
       "      <td>-0.324178</td>\n",
       "      <td>0.004187</td>\n",
       "      <td>9.24</td>\n",
       "      <td>0</td>\n",
       "    </tr>\n",
       "    <tr>\n",
       "      <th>21547</th>\n",
       "      <td>31731.0</td>\n",
       "      <td>-0.692342</td>\n",
       "      <td>0.955848</td>\n",
       "      <td>1.237962</td>\n",
       "      <td>0.817452</td>\n",
       "      <td>1.114700</td>\n",
       "      <td>-0.042481</td>\n",
       "      <td>0.783874</td>\n",
       "      <td>0.050176</td>\n",
       "      <td>-1.422808</td>\n",
       "      <td>...</td>\n",
       "      <td>0.148604</td>\n",
       "      <td>0.404951</td>\n",
       "      <td>-0.406803</td>\n",
       "      <td>-0.266370</td>\n",
       "      <td>0.602503</td>\n",
       "      <td>-0.084888</td>\n",
       "      <td>0.064739</td>\n",
       "      <td>0.058097</td>\n",
       "      <td>1.79</td>\n",
       "      <td>0</td>\n",
       "    </tr>\n",
       "  </tbody>\n",
       "</table>\n",
       "<p>5 rows × 31 columns</p>\n",
       "</div>"
      ],
      "text/plain": [
       "            Time        V1        V2        V3        V4        V5        V6  \\\n",
       "279234  168729.0  0.018184  0.768485  0.172684 -0.769906  0.591460 -0.634593   \n",
       "10938    18769.0 -2.146416 -1.596222  2.560461 -1.332597  1.306061 -1.099903   \n",
       "173658  121585.0  1.639938 -0.908127  0.832521  1.845868 -1.652753  0.105208   \n",
       "119020   75299.0 -0.705120  1.126895  1.201219  0.438523  0.348542 -0.364667   \n",
       "21547    31731.0 -0.692342  0.955848  1.237962  0.817452  1.114700 -0.042481   \n",
       "\n",
       "              V7        V8        V9  ...       V21       V22       V23  \\\n",
       "279234  0.865897 -0.014814 -0.216557  ... -0.234318 -0.553228  0.023422   \n",
       "10938  -1.272066  0.476996  2.455747  ...  0.119163  0.097449  0.078743   \n",
       "173658 -1.147006  0.239830  1.992198  ...  0.262163  0.936092  0.118866   \n",
       "119020  0.791330 -0.150286 -0.412665  ...  0.163367  0.440549 -0.130025   \n",
       "21547   0.783874  0.050176 -1.422808  ...  0.148604  0.404951 -0.406803   \n",
       "\n",
       "             V24       V25       V26       V27       V28  Amount  class  \n",
       "279234 -0.354570 -0.490981  0.142097  0.239997  0.083222    2.69      0  \n",
       "10938  -0.066076  0.438715 -0.797729  0.015860  0.093013   21.05      0  \n",
       "173658  0.464955 -0.308215 -0.560345  0.098183  0.004622  109.99      0  \n",
       "119020  0.080528  0.173362 -0.373281 -0.324178  0.004187    9.24      0  \n",
       "21547  -0.266370  0.602503 -0.084888  0.064739  0.058097    1.79      0  \n",
       "\n",
       "[5 rows x 31 columns]"
      ]
     },
     "execution_count": 57,
     "metadata": {},
     "output_type": "execute_result"
    }
   ],
   "source": [
    "# concantenate\n",
    "new_df = pd.concat([norm_samp, fraud],axis=0)\n",
    "new_df.head(5)"
   ]
  },
  {
   "cell_type": "code",
   "execution_count": 58,
   "metadata": {},
   "outputs": [
    {
     "data": {
      "text/plain": [
       "0    492\n",
       "1    492\n",
       "Name: class, dtype: int64"
      ]
     },
     "execution_count": 58,
     "metadata": {},
     "output_type": "execute_result"
    }
   ],
   "source": [
    "new_df['class'].value_counts()"
   ]
  },
  {
   "cell_type": "code",
   "execution_count": 59,
   "metadata": {},
   "outputs": [
    {
     "data": {
      "text/html": [
       "<div>\n",
       "<style scoped>\n",
       "    .dataframe tbody tr th:only-of-type {\n",
       "        vertical-align: middle;\n",
       "    }\n",
       "\n",
       "    .dataframe tbody tr th {\n",
       "        vertical-align: top;\n",
       "    }\n",
       "\n",
       "    .dataframe thead th {\n",
       "        text-align: right;\n",
       "    }\n",
       "</style>\n",
       "<table border=\"1\" class=\"dataframe\">\n",
       "  <thead>\n",
       "    <tr style=\"text-align: right;\">\n",
       "      <th></th>\n",
       "      <th>Time</th>\n",
       "      <th>V1</th>\n",
       "      <th>V2</th>\n",
       "      <th>V3</th>\n",
       "      <th>V4</th>\n",
       "      <th>V5</th>\n",
       "      <th>V6</th>\n",
       "      <th>V7</th>\n",
       "      <th>V8</th>\n",
       "      <th>V9</th>\n",
       "      <th>...</th>\n",
       "      <th>V20</th>\n",
       "      <th>V21</th>\n",
       "      <th>V22</th>\n",
       "      <th>V23</th>\n",
       "      <th>V24</th>\n",
       "      <th>V25</th>\n",
       "      <th>V26</th>\n",
       "      <th>V27</th>\n",
       "      <th>V28</th>\n",
       "      <th>Amount</th>\n",
       "    </tr>\n",
       "    <tr>\n",
       "      <th>class</th>\n",
       "      <th></th>\n",
       "      <th></th>\n",
       "      <th></th>\n",
       "      <th></th>\n",
       "      <th></th>\n",
       "      <th></th>\n",
       "      <th></th>\n",
       "      <th></th>\n",
       "      <th></th>\n",
       "      <th></th>\n",
       "      <th></th>\n",
       "      <th></th>\n",
       "      <th></th>\n",
       "      <th></th>\n",
       "      <th></th>\n",
       "      <th></th>\n",
       "      <th></th>\n",
       "      <th></th>\n",
       "      <th></th>\n",
       "      <th></th>\n",
       "      <th></th>\n",
       "    </tr>\n",
       "  </thead>\n",
       "  <tbody>\n",
       "    <tr>\n",
       "      <th>0</th>\n",
       "      <td>92816.739837</td>\n",
       "      <td>-0.125509</td>\n",
       "      <td>-0.042867</td>\n",
       "      <td>0.042232</td>\n",
       "      <td>0.049525</td>\n",
       "      <td>-0.014395</td>\n",
       "      <td>-0.014182</td>\n",
       "      <td>-0.051047</td>\n",
       "      <td>0.017644</td>\n",
       "      <td>-0.011017</td>\n",
       "      <td>...</td>\n",
       "      <td>-0.039999</td>\n",
       "      <td>0.051157</td>\n",
       "      <td>-0.028532</td>\n",
       "      <td>0.000382</td>\n",
       "      <td>-0.00073</td>\n",
       "      <td>-0.006382</td>\n",
       "      <td>-0.003300</td>\n",
       "      <td>-0.000570</td>\n",
       "      <td>-0.012989</td>\n",
       "      <td>86.312195</td>\n",
       "    </tr>\n",
       "    <tr>\n",
       "      <th>1</th>\n",
       "      <td>80746.806911</td>\n",
       "      <td>-4.771948</td>\n",
       "      <td>3.623778</td>\n",
       "      <td>-7.033281</td>\n",
       "      <td>4.542029</td>\n",
       "      <td>-3.151225</td>\n",
       "      <td>-1.397737</td>\n",
       "      <td>-5.568731</td>\n",
       "      <td>0.570636</td>\n",
       "      <td>-2.581123</td>\n",
       "      <td>...</td>\n",
       "      <td>0.372319</td>\n",
       "      <td>0.713588</td>\n",
       "      <td>0.014049</td>\n",
       "      <td>-0.040308</td>\n",
       "      <td>-0.10513</td>\n",
       "      <td>0.041449</td>\n",
       "      <td>0.051648</td>\n",
       "      <td>0.170575</td>\n",
       "      <td>0.075667</td>\n",
       "      <td>122.211321</td>\n",
       "    </tr>\n",
       "  </tbody>\n",
       "</table>\n",
       "<p>2 rows × 30 columns</p>\n",
       "</div>"
      ],
      "text/plain": [
       "               Time        V1        V2        V3        V4        V5  \\\n",
       "class                                                                   \n",
       "0      92816.739837 -0.125509 -0.042867  0.042232  0.049525 -0.014395   \n",
       "1      80746.806911 -4.771948  3.623778 -7.033281  4.542029 -3.151225   \n",
       "\n",
       "             V6        V7        V8        V9  ...       V20       V21  \\\n",
       "class                                          ...                       \n",
       "0     -0.014182 -0.051047  0.017644 -0.011017  ... -0.039999  0.051157   \n",
       "1     -1.397737 -5.568731  0.570636 -2.581123  ...  0.372319  0.713588   \n",
       "\n",
       "            V22       V23      V24       V25       V26       V27       V28  \\\n",
       "class                                                                        \n",
       "0     -0.028532  0.000382 -0.00073 -0.006382 -0.003300 -0.000570 -0.012989   \n",
       "1      0.014049 -0.040308 -0.10513  0.041449  0.051648  0.170575  0.075667   \n",
       "\n",
       "           Amount  \n",
       "class              \n",
       "0       86.312195  \n",
       "1      122.211321  \n",
       "\n",
       "[2 rows x 30 columns]"
      ]
     },
     "execution_count": 59,
     "metadata": {},
     "output_type": "execute_result"
    }
   ],
   "source": [
    "new_df.groupby('class').mean()"
   ]
  },
  {
   "cell_type": "code",
   "execution_count": 60,
   "metadata": {},
   "outputs": [],
   "source": [
    "# split data into Features and Target\n",
    "X = new_df.drop(columns='class',axis=1)\n",
    "y = new_df['class']"
   ]
  },
  {
   "cell_type": "code",
   "execution_count": 67,
   "metadata": {},
   "outputs": [],
   "source": [
    "from sklearn.model_selection import train_test_split\n",
    "from sklearn.linear_model import LogisticRegression\n",
    "from sklearn.metrics import accuracy_score\n",
    "from sklearn.metrics import precision_recall_fscore_support\n",
    "from sklearn.metrics import roc_auc_score\n",
    "from sklearn.metrics import roc_curve\n",
    "import matplotlib.pyplot as plt"
   ]
  },
  {
   "cell_type": "code",
   "execution_count": 62,
   "metadata": {},
   "outputs": [],
   "source": [
    "# split data into training & testing data\n",
    "X_train,X_test,y_train,y_test = train_test_split(X,y,test_size=0.25,random_state=49)"
   ]
  },
  {
   "attachments": {},
   "cell_type": "markdown",
   "metadata": {},
   "source": [
    "## Modelling"
   ]
  },
  {
   "attachments": {},
   "cell_type": "markdown",
   "metadata": {},
   "source": [
    "Logistic Regression"
   ]
  },
  {
   "cell_type": "code",
   "execution_count": 63,
   "metadata": {},
   "outputs": [],
   "source": [
    "# model training\n",
    "lr = LogisticRegression()"
   ]
  },
  {
   "cell_type": "code",
   "execution_count": 64,
   "metadata": {},
   "outputs": [
    {
     "name": "stderr",
     "output_type": "stream",
     "text": [
      "c:\\Users\\USER\\anaconda3\\lib\\site-packages\\sklearn\\linear_model\\_logistic.py:814: ConvergenceWarning: lbfgs failed to converge (status=1):\n",
      "STOP: TOTAL NO. of ITERATIONS REACHED LIMIT.\n",
      "\n",
      "Increase the number of iterations (max_iter) or scale the data as shown in:\n",
      "    https://scikit-learn.org/stable/modules/preprocessing.html\n",
      "Please also refer to the documentation for alternative solver options:\n",
      "    https://scikit-learn.org/stable/modules/linear_model.html#logistic-regression\n",
      "  n_iter_i = _check_optimize_result(\n"
     ]
    },
    {
     "data": {
      "text/plain": [
       "LogisticRegression()"
      ]
     },
     "execution_count": 64,
     "metadata": {},
     "output_type": "execute_result"
    }
   ],
   "source": [
    "# training the Logistic Regression Model with Training Data\n",
    "lr.fit(X_train, y_train)"
   ]
  },
  {
   "attachments": {},
   "cell_type": "markdown",
   "metadata": {},
   "source": [
    "Model Evaluation"
   ]
  },
  {
   "cell_type": "code",
   "execution_count": 65,
   "metadata": {},
   "outputs": [
    {
     "name": "stdout",
     "output_type": "stream",
     "text": [
      "Accuracy on Training data :  0.9349593495934959\n"
     ]
    }
   ],
   "source": [
    "\n",
    "X_train_prediction = lr.predict(X_train)\n",
    "\n",
    "# Accuracy Score\n",
    "# accuracy on training data\n",
    "training_data_accuracy = accuracy_score(X_train_prediction, y_train)\n",
    "print('Accuracy on Training data : ', training_data_accuracy)\n"
   ]
  },
  {
   "cell_type": "code",
   "execution_count": 66,
   "metadata": {},
   "outputs": [
    {
     "name": "stdout",
     "output_type": "stream",
     "text": [
      "Accuracy score on Test Data :  0.943089430894309\n"
     ]
    }
   ],
   "source": [
    "# accuracy on test data\n",
    "X_test_prediction = lr.predict(X_test)\n",
    "test_data_accuracy = accuracy_score(X_test_prediction, y_test)\n",
    "print('Accuracy score on Test Data : ', test_data_accuracy)"
   ]
  },
  {
   "cell_type": "code",
   "execution_count": 68,
   "metadata": {},
   "outputs": [
    {
     "name": "stdout",
     "output_type": "stream",
     "text": [
      "Precision:  0.9830508474576272\n",
      "Recall:  0.90625\n",
      "F1 score:  0.943089430894309\n"
     ]
    }
   ],
   "source": [
    "# Calculate precision, recall, F1 score, and support\n",
    "precision, recall, f1_score, support = precision_recall_fscore_support(y_test, X_test_prediction, average='binary')\n",
    "\n",
    "print(\"Precision: \", precision)\n",
    "print(\"Recall: \", recall)\n",
    "print(\"F1 score: \", f1_score)"
   ]
  },
  {
   "attachments": {},
   "cell_type": "markdown",
   "metadata": {},
   "source": [
    "KNN Classifier"
   ]
  },
  {
   "cell_type": "code",
   "execution_count": 69,
   "metadata": {},
   "outputs": [],
   "source": [
    "from sklearn.neighbors import KNeighborsClassifier"
   ]
  },
  {
   "cell_type": "code",
   "execution_count": 70,
   "metadata": {},
   "outputs": [
    {
     "data": {
      "text/plain": [
       "KNeighborsClassifier()"
      ]
     },
     "execution_count": 70,
     "metadata": {},
     "output_type": "execute_result"
    }
   ],
   "source": [
    "# Train the KNN classifier\n",
    "knn_clf = KNeighborsClassifier(n_neighbors=5)\n",
    "knn_clf.fit(X_train, y_train)\n"
   ]
  },
  {
   "attachments": {},
   "cell_type": "markdown",
   "metadata": {},
   "source": [
    "Model Evaluation"
   ]
  },
  {
   "cell_type": "code",
   "execution_count": 71,
   "metadata": {},
   "outputs": [
    {
     "name": "stdout",
     "output_type": "stream",
     "text": [
      "Accuracy Score on Training Data: 0.7642276422764228\n",
      "Accuracy Score on Test Data: 0.6219512195121951\n"
     ]
    }
   ],
   "source": [
    "# Make prediction on training data\n",
    "y_train_pred = knn_clf.predict(X_train)\n",
    "# Make predictions on the test set\n",
    "y_pred = knn_clf.predict(X_test)\n",
    "# Evaluate the model's performance\n",
    "print(\"Accuracy Score on Training Data:\", accuracy_score(y_train_pred, y_train))\n",
    "print(\"Accuracy Score on Test Data:\", accuracy_score(y_test, y_pred))"
   ]
  },
  {
   "cell_type": "code",
   "execution_count": 72,
   "metadata": {},
   "outputs": [
    {
     "name": "stdout",
     "output_type": "stream",
     "text": [
      "Precision:  0.6422764227642277\n",
      "Recall:  0.6171875\n",
      "F1 score:  0.6294820717131474\n"
     ]
    }
   ],
   "source": [
    "# Calculate precision, recall, F1 score, and support\n",
    "precision, recall, f1_score, support = precision_recall_fscore_support(y_test, y_pred, average='binary')\n",
    "\n",
    "print(\"Precision: \", precision)\n",
    "print(\"Recall: \", recall)\n",
    "print(\"F1 score: \", f1_score)"
   ]
  },
  {
   "attachments": {},
   "cell_type": "markdown",
   "metadata": {},
   "source": [
    "Random Forest"
   ]
  },
  {
   "cell_type": "code",
   "execution_count": 73,
   "metadata": {},
   "outputs": [],
   "source": [
    "# Random Forest\n",
    "from sklearn.ensemble import RandomForestClassifier"
   ]
  },
  {
   "cell_type": "code",
   "execution_count": 74,
   "metadata": {},
   "outputs": [
    {
     "data": {
      "text/plain": [
       "RandomForestClassifier()"
      ]
     },
     "execution_count": 74,
     "metadata": {},
     "output_type": "execute_result"
    }
   ],
   "source": [
    "# Train the Random Forest classifier\n",
    "rand_clf = RandomForestClassifier()\n",
    "rand_clf.fit(X_train, y_train)"
   ]
  },
  {
   "attachments": {},
   "cell_type": "markdown",
   "metadata": {},
   "source": [
    "Model Evaluation"
   ]
  },
  {
   "cell_type": "code",
   "execution_count": 75,
   "metadata": {},
   "outputs": [
    {
     "name": "stdout",
     "output_type": "stream",
     "text": [
      "Accuracy Score on Test Data: 0.9471544715447154\n"
     ]
    }
   ],
   "source": [
    "# Make predictions on the training data\n",
    "rand_train_y_pred = rand_clf.predict(X_train)\n",
    "# Make predictions on the test data\n",
    "rand_pred = rand_clf.predict(X_test)\n",
    "# Evaluate the model's performance\n",
    "print(\"Accuracy Score on Test Data:\", accuracy_score(y_test, rand_pred))"
   ]
  },
  {
   "cell_type": "code",
   "execution_count": 76,
   "metadata": {},
   "outputs": [
    {
     "name": "stdout",
     "output_type": "stream",
     "text": [
      "Precision:  0.9752066115702479\n",
      "Recall:  0.921875\n",
      "F1 score:  0.9477911646586346\n"
     ]
    }
   ],
   "source": [
    "# Calculate precision, recall, F1 score, and support\n",
    "precision, recall, f1_score, support = precision_recall_fscore_support(y_test, rand_pred, average='binary')\n",
    "\n",
    "print(\"Precision: \", precision)\n",
    "print(\"Recall: \", recall)\n",
    "print(\"F1 score: \", f1_score)"
   ]
  },
  {
   "attachments": {},
   "cell_type": "markdown",
   "metadata": {},
   "source": [
    "SVC Model"
   ]
  },
  {
   "cell_type": "code",
   "execution_count": 77,
   "metadata": {},
   "outputs": [],
   "source": [
    "from sklearn.svm import SVC\n"
   ]
  },
  {
   "cell_type": "code",
   "execution_count": 78,
   "metadata": {},
   "outputs": [
    {
     "name": "stdout",
     "output_type": "stream",
     "text": [
      "SVM Accuracy: 0.9227642276422764\n"
     ]
    }
   ],
   "source": [
    "# Train the SVM classifier\n",
    "clf = SVC(kernel='linear', C=1)\n",
    "clf.fit(X_train, y_train)\n",
    "\n",
    "# Make predictions on the test set\n",
    "y_pred = clf.predict(X_test)\n",
    "\n",
    "# Evaluate the model's performance\n",
    "from sklearn.metrics import accuracy_score\n",
    "print(\"SVM Accuracy:\", accuracy_score(y_test, y_pred))"
   ]
  },
  {
   "cell_type": "code",
   "execution_count": 79,
   "metadata": {},
   "outputs": [
    {
     "name": "stdout",
     "output_type": "stream",
     "text": [
      "Precision:  1.0\n",
      "Recall:  0.8515625\n",
      "F1 score:  0.919831223628692\n"
     ]
    }
   ],
   "source": [
    "# Calculate precision, recall, F1 score, and support\n",
    "precision, recall, f1_score, support = precision_recall_fscore_support(y_test, y_pred, average='binary')\n",
    "\n",
    "print(\"Precision: \", precision)\n",
    "print(\"Recall: \", recall)\n",
    "print(\"F1 score: \", f1_score)"
   ]
  },
  {
   "attachments": {},
   "cell_type": "markdown",
   "metadata": {},
   "source": [
    "Train the Random Forest classifier with tuned hyperparameters"
   ]
  },
  {
   "cell_type": "code",
   "execution_count": 80,
   "metadata": {},
   "outputs": [],
   "source": [
    "from sklearn.model_selection import GridSearchCV"
   ]
  },
  {
   "cell_type": "code",
   "execution_count": 81,
   "metadata": {},
   "outputs": [
    {
     "name": "stdout",
     "output_type": "stream",
     "text": [
      "Best parameters found:  {'max_depth': 20, 'min_samples_leaf': 1, 'min_samples_split': 5, 'n_estimators': 50}\n",
      "Best score found:  0.93698850098415\n"
     ]
    }
   ],
   "source": [
    "# define the hyperparameters to be tuned\n",
    "param_grid = {'n_estimators': [10, 50, 100, 200],\n",
    "              'max_depth': [5, 10, 15, 20, 25],\n",
    "              'min_samples_split': [2, 5, 10, 20],\n",
    "              'min_samples_leaf': [1, 2, 4, 8]}\n",
    "# create an instance of the Random Forest classifier\n",
    "clf = RandomForestClassifier()\n",
    "\n",
    "# create an instance of the GridSearchCV with the hyperparameters and the classifier\n",
    "grid_search = GridSearchCV(clf, param_grid, cv=5)\n",
    "\n",
    "# fit the grid search on the training data\n",
    "grid_search.fit(X, y)\n",
    "\n",
    "# print the best parameters\n",
    "print(\"Best parameters found: \", grid_search.best_params_)\n",
    "\n",
    "# print the best score\n",
    "print(\"Best score found: \", grid_search.best_score_)\n",
    "\n",
    "# make predictions on the test data using the best classifier\n",
    "y_pred = grid_search.predict(X)"
   ]
  }
 ],
 "metadata": {
  "kernelspec": {
   "display_name": "base",
   "language": "python",
   "name": "python3"
  },
  "language_info": {
   "codemirror_mode": {
    "name": "ipython",
    "version": 3
   },
   "file_extension": ".py",
   "mimetype": "text/x-python",
   "name": "python",
   "nbconvert_exporter": "python",
   "pygments_lexer": "ipython3",
   "version": "3.9.12"
  },
  "orig_nbformat": 4,
  "vscode": {
   "interpreter": {
    "hash": "263930470851f494f0ed2879c35b57985588df20f9e529b86e97dd5eb9ddc466"
   }
  }
 },
 "nbformat": 4,
 "nbformat_minor": 2
}
